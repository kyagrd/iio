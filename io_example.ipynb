{
 "cells": [
  {
   "cell_type": "code",
   "execution_count": 2,
   "metadata": {},
   "outputs": [
    {
     "name": "stdout",
     "output_type": "stream",
     "text": [
      "==> 2\r\n"
     ]
    }
   ],
   "source": [
    "1+1"
   ]
  },
  {
   "cell_type": "code",
   "execution_count": 3,
   "metadata": {},
   "outputs": [
    {
     "name": "stdout",
     "output_type": "stream",
     "text": [
      "==>  Vehicle_0x22ca670:\r\n",
      "  type             = \"Vehicle\"\r\n",
      "\r\n"
     ]
    }
   ],
   "source": [
    "Vehicle := Object clone"
   ]
  },
  {
   "cell_type": "code",
   "execution_count": 4,
   "metadata": {},
   "outputs": [
    {
     "name": "stdout",
     "output_type": "stream",
     "text": [
      "==> Something to take you places\r\n"
     ]
    }
   ],
   "source": [
    "Vehicle description := \"Something to take you places\""
   ]
  },
  {
   "cell_type": "code",
   "execution_count": 5,
   "metadata": {},
   "outputs": [
    {
     "name": "stdout",
     "output_type": "stream",
     "text": [
      "==> Something to take you places\r\n"
     ]
    }
   ],
   "source": [
    "Vehicle description"
   ]
  },
  {
   "cell_type": "code",
   "execution_count": 6,
   "metadata": {},
   "outputs": [
    {
     "name": "stdout",
     "output_type": "stream",
     "text": [
      "==> Something to take you far away\r\n"
     ]
    }
   ],
   "source": [
    "Vehicle description = \"Something to take you far away\""
   ]
  },
  {
   "cell_type": "code",
   "execution_count": 7,
   "metadata": {},
   "outputs": [
    {
     "name": "stdout",
     "output_type": "stream",
     "text": [
      "\r\n",
      "  Exception: Slot nonexistingSlot not found. Must define slot using := operator before updating.\r\n",
      "  ---------\r\n",
      "  message 'updateSlot' in 'Command Line' on line 1\r\n",
      "\r\n"
     ]
    }
   ],
   "source": [
    "Vehicle nonexistingSlot = \"This won't work.\""
   ]
  },
  {
   "cell_type": "code",
   "execution_count": 8,
   "metadata": {},
   "outputs": [
    {
     "name": "stdout",
     "output_type": "stream",
     "text": [
      "==> list(type, description)\r\n"
     ]
    }
   ],
   "source": [
    "Vehicle slotNames"
   ]
  },
  {
   "cell_type": "code",
   "execution_count": null,
   "metadata": {
    "collapsed": true
   },
   "outputs": [],
   "source": []
  }
 ],
 "metadata": {
  "kernelspec": {
   "display_name": "Io",
   "language": "io",
   "name": "iokernel"
  },
  "language_info": {
   "codemirror_mode": "scheme",
   "file_extension": ".io",
   "mimetype": "text/plain",
   "name": "Io"
  }
 },
 "nbformat": 4,
 "nbformat_minor": 2
}
